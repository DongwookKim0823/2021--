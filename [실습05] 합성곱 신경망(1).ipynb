{
 "cells": [
  {
   "cell_type": "markdown",
   "id": "4e5af3b4",
   "metadata": {},
   "source": [
    "# [GitHub url]\n",
    "\n",
    "\n",
    "https://github.com/DongwookKim0823/2021-DeepLearning"
   ]
  },
  {
   "cell_type": "markdown",
   "id": "b1037705",
   "metadata": {},
   "source": [
    "### Load packages"
   ]
  },
  {
   "cell_type": "code",
   "execution_count": 1,
   "id": "15903dd6",
   "metadata": {},
   "outputs": [],
   "source": [
    "import torch\n",
    "import torch.nn as nn\n",
    "import torchvision.datasets as dset\n",
    "import torchvision.transforms as transforms\n",
    "from torch.utils.data import DataLoader\n",
    "from torch.autograd import Variable\n",
    "import matplotlib.pyplot as plt\n",
    "%matplotlib inline"
   ]
  },
  {
   "cell_type": "markdown",
   "id": "588a5e7b",
   "metadata": {},
   "source": [
    "### MNIST train, test dataset 가져오기"
   ]
  },
  {
   "cell_type": "code",
   "execution_count": 3,
   "id": "9bb3fc57",
   "metadata": {},
   "outputs": [],
   "source": [
    "mnist_train = dset.MNIST(\"\", train=True, transform=transforms.ToTensor(),\n",
    "                        target_transform=None, download=True)\n",
    "mnist_test = dset.MNIST(\"\", train=False, transform=transforms.ToTensor(),\n",
    "                        target_transform=None, download=True)"
   ]
  },
  {
   "cell_type": "markdown",
   "id": "2e6d6d92",
   "metadata": {},
   "source": [
    "### 대략적인 데이터 형태"
   ]
  },
  {
   "cell_type": "code",
   "execution_count": 4,
   "id": "3f61fa3c",
   "metadata": {},
   "outputs": [
    {
     "name": "stdout",
     "output_type": "stream",
     "text": [
      "('mnist_train \\xea\\xb8\\xb8\\xec\\x9d\\xb4 : ', 60000)\n",
      "('mnist_test \\xea\\xb8\\xb8\\xec\\x9d\\xb4 : ', 10000)\n",
      "('image data \\xed\\x98\\x95\\xed\\x83\\x9c : ', torch.Size([1, 28, 28]))\n",
      "('label : ', 5)\n"
     ]
    },
    {
     "data": {
      "image/png": "[encoded data removed]",
      "text/plain": [
       "<Figure size 432x288 with 1 Axes>"
      ]
     },
     "metadata": {
      "needs_background": "light"
     },
     "output_type": "display_data"
    }
   ],
   "source": [
    "print(\"mnist_train 길이 : \", len(mnist_train))\n",
    "print(\"mnist_test 길이 : \", len(mnist_test))\n",
    "\n",
    "image, label = mnist_train.__getitem__(0)\n",
    "print(\"image data 형태 : \", image.size())\n",
    "print(\"label : \", label)\n",
    "\n",
    "img = image.numpy()\n",
    "plt.title(\"label : %d\" %label)\n",
    "plt.imshow(img[0], cmap=\"gray\")\n",
    "plt.show()"
   ]
  },
  {
   "cell_type": "markdown",
   "id": "0dd8b15a",
   "metadata": {},
   "source": [
    "### MNIST data 띄워보기"
   ]
  },
  {
   "cell_type": "code",
   "execution_count": 5,
   "id": "5a6145e5",
   "metadata": {},
   "outputs": [
    {
     "name": "stdout",
     "output_type": "stream",
     "text": [
      "5\n",
      "torch.Size([1, 28, 28])\n",
      "5\n"
     ]
    },
    {
     "data": {
      "image/png": "[encoded data removed]",
      "text/plain": [
       "<Figure size 432x288 with 1 Axes>"
      ]
     },
     "metadata": {
      "needs_background": "light"
     },
     "output_type": "display_data"
    },
    {
     "name": "stdout",
     "output_type": "stream",
     "text": [
      "0\n"
     ]
    },
    {
     "data": {
      "image/png": "[encoded data removed]",
      "text/plain": [
       "<Figure size 432x288 with 1 Axes>"
      ]
     },
     "metadata": {
      "needs_background": "light"
     },
     "output_type": "display_data"
    },
    {
     "name": "stdout",
     "output_type": "stream",
     "text": [
      "4\n"
     ]
    },
    {
     "data": {
      "image/png": "[encoded data removed]",
      "text/plain": [
       "<Figure size 432x288 with 1 Axes>"
      ]
     },
     "metadata": {
      "needs_background": "light"
     },
     "output_type": "display_data"
    }
   ],
   "source": [
    "print(mnist_train[0][1])\n",
    "print(mnist_train[0][0].size())\n",
    "\n",
    "for i in range(3):\n",
    "    img = mnist_train[i][0].numpy()\n",
    "    print(mnist_train[i][1])\n",
    "    plt.imshow(img[0], cmap='gray')\n",
    "    plt.show()"
   ]
  },
  {
   "cell_type": "markdown",
   "id": "d623f6b5",
   "metadata": {},
   "source": [
    "### Convolution 하나 씌워보기"
   ]
  },
  {
   "cell_type": "code",
   "execution_count": 6,
   "id": "1df9e5a6",
   "metadata": {},
   "outputs": [
    {
     "name": "stdout",
     "output_type": "stream",
     "text": [
      "torch.Size([1, 1, 28, 28])\n",
      "5\n",
      "torch.Size([1, 3, 28, 28])\n"
     ]
    },
    {
     "data": {
      "image/png": "[encoded data removed]",
      "text/plain": [
       "<Figure size 432x288 with 1 Axes>"
      ]
     },
     "metadata": {
      "needs_background": "light"
     },
     "output_type": "display_data"
    },
    {
     "data": {
      "image/png": "[encoded data removed]",
      "text/plain": [
       "<Figure size 432x288 with 1 Axes>"
      ]
     },
     "metadata": {
      "needs_background": "light"
     },
     "output_type": "display_data"
    },
    {
     "data": {
      "image/png": "[encoded data removed]",
      "text/plain": [
       "<Figure size 432x288 with 1 Axes>"
      ]
     },
     "metadata": {
      "needs_background": "light"
     },
     "output_type": "display_data"
    }
   ],
   "source": [
    "image, label = mnist_train[0]\n",
    "image = image.view(-1, image.size()[0], image.size()[1], image.size()[2])\n",
    "print(image.size())\n",
    "print(label)\n",
    "\n",
    "conv_layer = nn.Conv2d(in_channels=1, out_channels=3, kernel_size=3, padding=1)\n",
    "output = conv_layer(Variable(image))\n",
    "print(output.size())\n",
    "\n",
    "for i in range(3):\n",
    "    plt.imshow(output[0, i, :,:].data.numpy(), cmap='gray')\n",
    "    plt.show()"
   ]
  },
  {
   "cell_type": "markdown",
   "id": "175b267e",
   "metadata": {},
   "source": [
    "### CNN 만들기\n",
    "\n",
    "#### train, test data 가져오기"
   ]
  },
  {
   "cell_type": "code",
   "execution_count": 7,
   "id": "6d9361dc",
   "metadata": {},
   "outputs": [],
   "source": [
    "import numpy as np\n",
    "import torch.optim as optim\n",
    "\n",
    "batch_size = 16\n",
    "learning_rate = 0.0002\n",
    "num_epoch = 10"
   ]
  },
  {
   "cell_type": "code",
   "execution_count": 8,
   "id": "2bf81548",
   "metadata": {},
   "outputs": [],
   "source": [
    "train_loader = torch.utils.data.DataLoader(list(mnist_train)[:batch_size*100], batch_size=batch_size,\n",
    "                                          shuffle=True, num_workers=2, \n",
    "                                          drop_last=True) \n",
    "test_loader = torch.utils.data.DataLoader((mnist_test), batch_size=batch_size,\n",
    "                                         shuffle=False, num_workers=2,\n",
    "                                         drop_last=True)"
   ]
  },
  {
   "cell_type": "markdown",
   "id": "36e1ac12",
   "metadata": {},
   "source": [
    "### CNN 클래스 만들기(모델 만들기)"
   ]
  },
  {
   "cell_type": "code",
   "execution_count": 10,
   "id": "f55b0560",
   "metadata": {},
   "outputs": [],
   "source": [
    "class CNN(nn.Module):\n",
    "    def __init__(self):\n",
    "        super(CNN, self).__init__()\n",
    "        self.layer = nn.Sequential(\n",
    "            nn.Conv2d(1, 16, 5, padding=2),\n",
    "            nn.ReLU(),\n",
    "\n",
    "            nn.Conv2d(16, 32, 5, padding=2),\n",
    "            nn.ReLU(),\n",
    "            nn.MaxPool2d(2, 2),\n",
    "            \n",
    "            nn.Conv2d(32, 64, 5, padding=2),\n",
    "            nn.ReLU(),\n",
    "            nn.MaxPool2d(2, 2)\n",
    "        )\n",
    "        \n",
    "        self.fc_layer=nn.Sequential(\n",
    "            nn.Linear(64*7*7, 100),\n",
    "            nn.ReLU(),\n",
    "            nn.Linear(100, 10)\n",
    "        )\n",
    "    def forward(self, x):\n",
    "        out = self.layer(x)\n",
    "        out = out.view(batch_size, -1)\n",
    "        out = self.fc_layer(out)\n",
    "        return out\n",
    "    \n",
    "model = CNN() #.cuda()"
   ]
  },
  {
   "cell_type": "code",
   "execution_count": 11,
   "id": "39cd4fd1",
   "metadata": {},
   "outputs": [
    {
     "name": "stdout",
     "output_type": "stream",
     "text": [
      "torch.Size([16, 1, 5, 5])\n",
      "torch.Size([16])\n",
      "torch.Size([32, 16, 5, 5])\n",
      "torch.Size([32])\n",
      "torch.Size([64, 32, 5, 5])\n",
      "torch.Size([64])\n",
      "torch.Size([100, 3136])\n",
      "torch.Size([100])\n",
      "torch.Size([10, 100])\n",
      "torch.Size([10])\n"
     ]
    }
   ],
   "source": [
    "for parameter in model.parameters():\n",
    "    #print(parameter)\n",
    "    print(parameter.shape)"
   ]
  },
  {
   "cell_type": "code",
   "execution_count": 13,
   "id": "aafd4f93",
   "metadata": {},
   "outputs": [],
   "source": [
    "loss_func = nn.CrossEntropyLoss()\n",
    "optimizer = torch.optim.Adam(model.parameters(), lr=learning_rate)"
   ]
  },
  {
   "cell_type": "markdown",
   "id": "59a4ab72",
   "metadata": {},
   "source": [
    "### optimization"
   ]
  },
  {
   "cell_type": "code",
   "execution_count": 14,
   "id": "e83769e9",
   "metadata": {},
   "outputs": [
    {
     "name": "stdout",
     "output_type": "stream",
     "text": [
      "(tensor(2.3061, grad_fn=<NllLossBackward>), 0, 0)\n",
      "(tensor(1.4786, grad_fn=<NllLossBackward>), 50, 0)\n",
      "(tensor(0.5963, grad_fn=<NllLossBackward>), 0, 1)\n",
      "(tensor(0.9015, grad_fn=<NllLossBackward>), 50, 1)\n",
      "(tensor(0.1433, grad_fn=<NllLossBackward>), 0, 2)\n",
      "(tensor(0.3858, grad_fn=<NllLossBackward>), 50, 2)\n",
      "(tensor(0.3281, grad_fn=<NllLossBackward>), 0, 3)\n",
      "(tensor(0.1290, grad_fn=<NllLossBackward>), 50, 3)\n",
      "(tensor(0.3333, grad_fn=<NllLossBackward>), 0, 4)\n",
      "(tensor(0.2077, grad_fn=<NllLossBackward>), 50, 4)\n",
      "(tensor(0.0684, grad_fn=<NllLossBackward>), 0, 5)\n",
      "(tensor(0.2454, grad_fn=<NllLossBackward>), 50, 5)\n",
      "(tensor(0.0416, grad_fn=<NllLossBackward>), 0, 6)\n",
      "(tensor(0.0426, grad_fn=<NllLossBackward>), 50, 6)\n",
      "(tensor(0.0861, grad_fn=<NllLossBackward>), 0, 7)\n",
      "(tensor(0.0391, grad_fn=<NllLossBackward>), 50, 7)\n",
      "(tensor(0.0064, grad_fn=<NllLossBackward>), 0, 8)\n",
      "(tensor(0.2088, grad_fn=<NllLossBackward>), 50, 8)\n",
      "(tensor(0.0085, grad_fn=<NllLossBackward>), 0, 9)\n",
      "(tensor(0.0284, grad_fn=<NllLossBackward>), 50, 9)\n"
     ]
    }
   ],
   "source": [
    "for i in range(num_epoch):\n",
    "    for j, [image, label] in enumerate(train_loader):\n",
    "        x = Variable(image) #.cuda()\n",
    "        y_ = Variable(label) #.cuda()\n",
    "        \n",
    "        optimizer.zero_grad()\n",
    "        output = model.forward(x)\n",
    "        loss = loss_func(output, y_)\n",
    "        loss.backward()\n",
    "        optimizer.step()\n",
    "        \n",
    "        if j % 50 == 0:\n",
    "            print(loss, j, i)"
   ]
  },
  {
   "cell_type": "code",
   "execution_count": 15,
   "id": "dc5fc498",
   "metadata": {},
   "outputs": [
    {
     "name": "stderr",
     "output_type": "stream",
     "text": [
      "/home/ec2-user/anaconda3/envs/pytorch_p27/lib/python2.7/site-packages/torch/serialization.py:360: UserWarning: Couldn't retrieve source code for container of type CNN. It won't be checked for correctness upon loading.\n",
      "  \"type \" + obj.__name__ + \". It won't be checked \"\n"
     ]
    }
   ],
   "source": [
    "# 모델 저장시키기\n",
    "torch.save(model, 'nets/mycnn_model_%d.pkl' %(num_epoch))"
   ]
  },
  {
   "cell_type": "code",
   "execution_count": 16,
   "id": "08ace719",
   "metadata": {},
   "outputs": [
    {
     "name": "stdout",
     "output_type": "stream",
     "text": [
      "model restored\n"
     ]
    }
   ],
   "source": [
    "try:\n",
    "    # 미리 학습시킨 네트워크의 파라미터 집합 (피클)\n",
    "    model = torch.load('nets/mycnn_model_10.pkl')\n",
    "    print(\"model restored\")\n",
    "except:\n",
    "    print(\"model not restored\")"
   ]
  },
  {
   "cell_type": "code",
   "execution_count": 18,
   "id": "68913d4a",
   "metadata": {},
   "outputs": [],
   "source": [
    "def ComputeAccr(dloader, imodel):\n",
    "    correct = 0\n",
    "    total = 0\n",
    "    \n",
    "    for j, [imgs, labels] in enumerate(dloader):\n",
    "        img = Variable(imgs)\n",
    "        label = Variable(labels)\n",
    "        \n",
    "        \n",
    "        output = imodel.forward(img)\n",
    "        _, output_index = torch.max(output, 1)\n",
    "        \n",
    "        total += label.size(0) \n",
    "        correct += (output_index == label).sum().float()\n",
    "    \n",
    "    print(\"Accuracy of Test Data: {}\".format(100*correct/total))"
   ]
  },
  {
   "cell_type": "code",
   "execution_count": 19,
   "id": "61d6dff1",
   "metadata": {},
   "outputs": [
    {
     "name": "stdout",
     "output_type": "stream",
     "text": [
      "Accuracy of Test Data: 94.6299972534\n"
     ]
    }
   ],
   "source": [
    "ComputeAccr(test_loader, model)"
   ]
  }
 ],
 "metadata": {
  "kernelspec": {
   "display_name": "conda_pytorch_p27",
   "language": "python",
   "name": "conda_pytorch_p27"
  },
  "language_info": {
   "codemirror_mode": {
    "name": "ipython",
    "version": 2
   },
   "file_extension": ".py",
   "mimetype": "text/x-python",
   "name": "python",
   "nbconvert_exporter": "python",
   "pygments_lexer": "ipython2",
   "version": "2.7.16"
  }
 },
 "nbformat": 4,
 "nbformat_minor": 5
}
